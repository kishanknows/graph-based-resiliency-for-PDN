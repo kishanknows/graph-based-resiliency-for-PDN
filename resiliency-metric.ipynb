{
 "cells": [
  {
   "cell_type": "markdown",
   "metadata": {},
   "source": [
    "Importing Data and packages"
   ]
  },
  {
   "cell_type": "code",
   "execution_count": null,
   "metadata": {},
   "outputs": [],
   "source": [
    "import pandas as pd\n",
    "import networkx as nx\n",
    "import numpy as np\n",
    "import matplotlib.pyplot as plt\n",
    "import parameters as params\n",
    "\n",
    "base_der = pd.read_csv('data/case1/base-case-DER.csv', skiprows=1, usecols=[0, 1, 2, 3], header=None)\n",
    "base_load = pd.read_csv('data/case1/base-case-load.csv', skiprows=1, usecols=[0, 1, 2, 3, 4], header=None)\n",
    "base_line = pd.read_csv('data/case1/base-case-line.csv', skiprows=1, usecols=[0, 1, 2, 3, 4, 5], header=None)\n",
    "\n",
    "DERs = set()\n",
    "CLs = set()\n",
    "\n",
    "for u in base_der[0]:\n",
    "    DERs.add(u)\n",
    "\n",
    "for load, precedance in zip(base_load[0], base_load[1]):\n",
    "    if precedance == 'Priority':\n",
    "        CLs.add(load)"
   ]
  },
  {
   "cell_type": "markdown",
   "metadata": {},
   "source": [
    "Adding edges and weights to graph"
   ]
  },
  {
   "cell_type": "code",
   "execution_count": null,
   "metadata": {},
   "outputs": [],
   "source": [
    "G = nx.Graph()\n",
    "wt = {}\n",
    "for u, v, w in zip(base_line[0], base_line[1], base_line[3]):\n",
    "    G.add_edge(u, v)\n",
    "    wt[(u, v)] = w\n",
    "    wt[(v, u)] = w"
   ]
  },
  {
   "cell_type": "markdown",
   "metadata": {},
   "source": [
    "Finding all simple paths from each critical load to each source"
   ]
  },
  {
   "cell_type": "code",
   "execution_count": null,
   "metadata": {},
   "outputs": [],
   "source": [
    "path_list = []\n",
    "for cl in CLs:\n",
    "    for path in nx.all_simple_paths(G, source=cl, target=DERs):\n",
    "        loads, sources = 0, 0\n",
    "        for node in path:\n",
    "            if node in CLs:\n",
    "                loads += 1\n",
    "            if node in DERs:\n",
    "                sources += 1\n",
    "        if loads > 1 or sources > 1:\n",
    "            continue\n",
    "        path_list.append(list(nx.utils.pairwise(path)))\n",
    "print(path_list)\n"
   ]
  },
  {
   "cell_type": "markdown",
   "metadata": {},
   "source": [
    "All possible path combination calculation"
   ]
  },
  {
   "cell_type": "code",
   "execution_count": null,
   "metadata": {},
   "outputs": [],
   "source": [
    "from collections import Counter\n",
    "\n",
    "\n",
    "possible_networks = set()\n",
    "comb = Counter()\n",
    "def find_networks(comb: Counter, start: int):\n",
    "    if start == len(path_list):\n",
    "        return\n",
    "    possible_networks.add(tuple(comb.keys()))\n",
    "    for i in range(start, len(path_list)):\n",
    "        path = path_list[i]\n",
    "        comb.update(path)\n",
    "        find_networks(comb, i+1)\n",
    "        comb.subtract(path)\n",
    "        comb = Counter([c for c in comb.elements() if comb[c] > 0])\n",
    "        find_networks(comb, i+1)\n",
    "\n",
    "find_networks(comb, 0)\n",
    "FNs = []\n",
    "for i, fn in enumerate(possible_networks):\n",
    "    print(f\"FN{i}: \", list(fn))\n",
    "    FNs.append(list(fn))\n",
    "\n"
   ]
  },
  {
   "cell_type": "code",
   "execution_count": null,
   "metadata": {},
   "outputs": [],
   "source": [
    "pos = nx.spring_layout(G)\n",
    "nx.draw_networkx(G, pos, font_color = 'w')\n",
    "nx.draw_networkx_nodes(G, pos, list(DERs), node_color='g')\n",
    "nx.draw_networkx_nodes(G, pos, list(CLs), node_color='r')\n",
    "nx.draw_networkx_edges(G, pos, FNs[35], width=4)\n",
    "plt.show()"
   ]
  },
  {
   "cell_type": "markdown",
   "metadata": {},
   "source": [
    "### Calculating parameters to measure resiliency of possible network"
   ]
  },
  {
   "cell_type": "markdown",
   "metadata": {},
   "source": [
    "Calculation of Parameter matrix"
   ]
  },
  {
   "cell_type": "code",
   "execution_count": null,
   "metadata": {},
   "outputs": [],
   "source": [
    "rsl = params.ratio_source_load(FNs, CLs, DERs)\n",
    "ops = params.switch_ops(FNs, wt)\n",
    "cen = params.agg_centrality(FNs)\n",
    "\n",
    "df = pd.DataFrame(np.array([rsl, ops, cen]), columns=[f\"FN{i}\" for i in range(1, len(rsl)+1)])\n",
    "df.index = ['rsl', 'ops', 'cen']\n",
    "df = df.T\n",
    "print(df)"
   ]
  },
  {
   "cell_type": "markdown",
   "metadata": {},
   "source": [
    "Calculation of weighted mean and resiliency"
   ]
  },
  {
   "cell_type": "code",
   "execution_count": null,
   "metadata": {},
   "outputs": [],
   "source": [
    "df['wtd_mean'] = (df['rsl'] * 4 + df['ops'] * 3 + df['cen'] * 3)/10\n",
    "df['resiliency'] = np.exp(-df['wtd_mean'])\n",
    "print(df)"
   ]
  },
  {
   "cell_type": "markdown",
   "metadata": {},
   "source": [
    "Finding critical lines based on network topology"
   ]
  },
  {
   "cell_type": "code",
   "execution_count": null,
   "metadata": {},
   "outputs": [],
   "source": []
  }
 ],
 "metadata": {
  "kernelspec": {
   "display_name": "Python 3",
   "language": "python",
   "name": "python3"
  },
  "language_info": {
   "codemirror_mode": {
    "name": "ipython",
    "version": 3
   },
   "file_extension": ".py",
   "mimetype": "text/x-python",
   "name": "python",
   "nbconvert_exporter": "python",
   "pygments_lexer": "ipython3",
   "version": "3.11.6"
  }
 },
 "nbformat": 4,
 "nbformat_minor": 2
}
